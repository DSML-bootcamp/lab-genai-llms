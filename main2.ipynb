{
 "cells": [
  {
   "cell_type": "markdown",
   "metadata": {},
   "source": [
    "# OpenAI Assistant"
   ]
  },
  {
   "cell_type": "markdown",
   "metadata": {},
   "source": [
    "## Exercise 1"
   ]
  },
  {
   "cell_type": "markdown",
   "metadata": {},
   "source": [
    "Create an assistant to answer a topic of your choosing:\n",
    " - Upload a file of your interest\n",
    " - Add Instructions to the prompt\n",
    " - Use the assistant in Playground mode\n",
    "\n",
    " https://platform.openai.com/playground/assistants"
   ]
  },
  {
   "cell_type": "code",
   "execution_count": 58,
   "metadata": {},
   "outputs": [],
   "source": [
    "# Done ! I did it through the website of openAI"
   ]
  },
  {
   "cell_type": "markdown",
   "metadata": {},
   "source": [
    "## Exercise 2"
   ]
  },
  {
   "cell_type": "markdown",
   "metadata": {},
   "source": [
    "Talk to your assistant via the API\n",
    "\n",
    "https://platform.openai.com/docs/assistants/overview"
   ]
  },
  {
   "cell_type": "code",
   "execution_count": 11,
   "metadata": {},
   "outputs": [],
   "source": [
    "import openai\n",
    "from openai import OpenAI\n",
    "\n",
    "# Set your API key\n",
    "openai.api_key = ''\n"
   ]
  },
  {
   "cell_type": "code",
   "execution_count": 54,
   "metadata": {},
   "outputs": [],
   "source": [
    "def ask_custom_gpt(question, model=\"asst_yDDFUrgvPYq8lDQrk01FRXM5\"):\n",
    "    client = OpenAI(\n",
    "        api_key=openai.api_key,\n",
    "    )\n",
    "    thread = client.beta.threads.create()\n",
    "\n",
    "    message = client.beta.threads.messages.create(\n",
    "        thread_id=thread.id,\n",
    "        role=\"user\",\n",
    "        content=question\n",
    "    )\n",
    "\n",
    "    run = client.beta.threads.runs.create_and_poll(\n",
    "        thread_id=thread.id,\n",
    "        assistant_id=model,\n",
    "        instructions=\"Always address the user as Mr Buyer at the beginning of the answer and thank him again with his name at the end of the answer. Don't ever mention the documents provided in to the assistant in the answers.\"\n",
    "    )\n",
    "\n",
    "    if run.status == 'completed':\n",
    "        messages = client.beta.threads.messages.list(\n",
    "            thread_id=thread.id\n",
    "        )\n",
    "        # Get the list of messages using the `data` attribute\n",
    "        messages_list = messages.data\n",
    "        # Get the assistant's response (the second-to-last message in the list)\n",
    "        assistant_message = messages_list[-2]\n",
    "        # Extract the TextContentBlock from the content attribute\n",
    "        text_content_block = assistant_message.content[0]\n",
    "        # Print the value of the Text object within the TextContentBlock\n",
    "        print(text_content_block.text.value)\n",
    "    else:\n",
    "        print(run.status)"
   ]
  },
  {
   "cell_type": "code",
   "execution_count": 47,
   "metadata": {},
   "outputs": [
    {
     "name": "stdout",
     "output_type": "stream",
     "text": [
      "Mr Buyer, the Porsche 911 GT3 Touring comes with several unique features that set it apart from other models in the 911 lineup:\n",
      "\n",
      "1. **Engine and Performance**: The GT3 Touring is powered by a high-revving 4.0-liter, six-cylinder, naturally aspirated engine capable of delivering 375 kW (510 PS). This engine allows the car to accelerate from 0 to 100 km/h in 3.9 seconds with a manual transmission and 3.4 seconds with the Porsche Doppelkupplung (PDK) transmission【4:4†source】【4:7†source】.\n",
      "\n",
      "2. **Design and Aesthetics**: Unlike the standard GT3 models that come with a fixed rear wing, the Touring package removes the fixed rear wing for a more understated appearance, offering a sleeker design while still maintaining the high performance attributes【4:4†source】【4:7†source】.\n",
      "\n",
      "3. **Interior Features**: The Touring package includes Exclusive Manufaktur leather upholstery in two-tone options such as black and lipstick red, along with an extended interior package in matt carbon. This enhances the luxury feel of the interior while maintaining its sporty essence【4:3†source】【4:11†source】.\n",
      "\n",
      "4. **Customization Options**: The 911 GT3 Touring allows extensive customization through the Porsche Exclusive Manufaktur program, which enables owners to personalize their vehicle with a variety of visual and technical enhancements for both the interior and exterior【4:11†source】.\n",
      "\n",
      "5. **Aerodynamics and Chassis**: The chassis is built for the racetrack, incorporating race track-proven technology for superior handling and performance. Despite lacking the large rear wing, the GT3 Touring retains excellent aerodynamics and driving stability thanks to its advanced design elements【4:7†source】.\n",
      "\n",
      "This blend of performance, luxury, and understated design makes the 911 GT3 Touring a unique and highly desirable variant of the Porsche 911 lineup.\n"
     ]
    }
   ],
   "source": [
    "# Example usage\n",
    "question = \"Explain the unique features of the Porsche 911 GT3 Touring.\"\n",
    "ask_custom_gpt(question)"
   ]
  },
  {
   "cell_type": "code",
   "execution_count": 51,
   "metadata": {},
   "outputs": [
    {
     "name": "stdout",
     "output_type": "stream",
     "text": [
      "Mr Buyer, that's an exciting choice for your first sports car! To ensure you make an informed decision, I can help you with information on the Porsche 911 from the documents you uploaded. Just let me know if you have any specific questions or criteria in mind for your selection. How can I assist you further with your decision? Thank you again, Mr Buyer.\n"
     ]
    }
   ],
   "source": [
    "# Example usage\n",
    "question = \"Hi, im looking to get a 911, it is my first sports car.\"\n",
    "ask_custom_gpt(question)"
   ]
  },
  {
   "cell_type": "code",
   "execution_count": 55,
   "metadata": {},
   "outputs": [
    {
     "name": "stdout",
     "output_type": "stream",
     "text": [
      "Mr. Buyer, based on the information provided in the documents, I recommend considering the Porsche 911 2.2S model from 1969-1971. This particular model is highlighted in the Porsche 911 Buyer's Guide as the choice for true 911 connoisseurs. With a capacity of 2,195cc, 180bhp maximum power, and impressive performance specs like 0-62mph in 6.6 seconds and a top speed of 145mph, the 911 2.2S offers a classic and iconic driving experience【4:0†source】. Thank you for considering this option, Mr. Buyer.\n"
     ]
    }
   ],
   "source": [
    "# Example usage\n",
    "question = \"Well, i dont really know which version of 911 to choose yet. I was hoping you could recomend me something\"\n",
    "ask_custom_gpt(question)"
   ]
  },
  {
   "cell_type": "code",
   "execution_count": 56,
   "metadata": {},
   "outputs": [
    {
     "name": "stdout",
     "output_type": "stream",
     "text": [
      "Mr Buyer, based on the information available, within your budget of 60000€, some of the newer Porsche models you could consider are:\n",
      "\n",
      "1. Porsche 911 Turbo and Turbo Cabriolet\n",
      "   - Power: 427 kW (580 PS)\n",
      "   - Acceleration 0-100km/h with Sport Chrono Package PDK: 2.8 secs\n",
      "   - Features twin-turbocharged six-cylinder boxer engine and all-wheel drive【4:0†source】.\n",
      "\n",
      "2. Porsche 911 Turbo S and Turbo S Cabriolet\n",
      "   - Power: 478 kW (650 PS)\n",
      "   - Acceleration 0-100km/h with Sport Chrono Package PDK: 2.7 secs\n",
      "   - Similar features to the 911 Turbo models but with higher power output【4:0†source】.\n",
      "\n",
      "3. Porsche Macan GTS\n",
      "   - Consumption combined: 11.7 - 11.3 l/100 km\n",
      "   - Features Euro 6d-ISC-FCM emissions standards and particulate filter【4:1†source】.\n",
      "\n",
      "These models offer a range of performance and features to consider within your budget. Thank you for the opportunity to assist you, Mr Buyer.\n"
     ]
    }
   ],
   "source": [
    "question = \"I want a newer model with a budget of 60000€, what are my options?\"\n",
    "ask_custom_gpt(question)"
   ]
  },
  {
   "cell_type": "markdown",
   "metadata": {},
   "source": [
    "## Exercise 3"
   ]
  },
  {
   "cell_type": "markdown",
   "metadata": {},
   "source": [
    "Create an assistant that will call a weather API, given the user's answer and return the proper answer.\n",
    "\n",
    "See the documentation of the weather API here: https://open-meteo.com/en/docs"
   ]
  },
  {
   "cell_type": "code",
   "execution_count": 57,
   "metadata": {},
   "outputs": [
    {
     "name": "stdout",
     "output_type": "stream",
     "text": [
      "{'latitude': 52.52, 'longitude': 13.419998, 'generationtime_ms': 0.04208087921142578, 'utc_offset_seconds': 0, 'timezone': 'GMT', 'timezone_abbreviation': 'GMT', 'elevation': 38.0, 'hourly_units': {'time': 'iso8601', 'temperature_2m': '°C'}, 'hourly': {'time': ['2024-06-19T00:00', '2024-06-19T01:00', '2024-06-19T02:00', '2024-06-19T03:00', '2024-06-19T04:00', '2024-06-19T05:00', '2024-06-19T06:00', '2024-06-19T07:00', '2024-06-19T08:00', '2024-06-19T09:00', '2024-06-19T10:00', '2024-06-19T11:00', '2024-06-19T12:00', '2024-06-19T13:00', '2024-06-19T14:00', '2024-06-19T15:00', '2024-06-19T16:00', '2024-06-19T17:00', '2024-06-19T18:00', '2024-06-19T19:00', '2024-06-19T20:00', '2024-06-19T21:00', '2024-06-19T22:00', '2024-06-19T23:00', '2024-06-20T00:00', '2024-06-20T01:00', '2024-06-20T02:00', '2024-06-20T03:00', '2024-06-20T04:00', '2024-06-20T05:00', '2024-06-20T06:00', '2024-06-20T07:00', '2024-06-20T08:00', '2024-06-20T09:00', '2024-06-20T10:00', '2024-06-20T11:00', '2024-06-20T12:00', '2024-06-20T13:00', '2024-06-20T14:00', '2024-06-20T15:00', '2024-06-20T16:00', '2024-06-20T17:00', '2024-06-20T18:00', '2024-06-20T19:00', '2024-06-20T20:00', '2024-06-20T21:00', '2024-06-20T22:00', '2024-06-20T23:00', '2024-06-21T00:00', '2024-06-21T01:00', '2024-06-21T02:00', '2024-06-21T03:00', '2024-06-21T04:00', '2024-06-21T05:00', '2024-06-21T06:00', '2024-06-21T07:00', '2024-06-21T08:00', '2024-06-21T09:00', '2024-06-21T10:00', '2024-06-21T11:00', '2024-06-21T12:00', '2024-06-21T13:00', '2024-06-21T14:00', '2024-06-21T15:00', '2024-06-21T16:00', '2024-06-21T17:00', '2024-06-21T18:00', '2024-06-21T19:00', '2024-06-21T20:00', '2024-06-21T21:00', '2024-06-21T22:00', '2024-06-21T23:00', '2024-06-22T00:00', '2024-06-22T01:00', '2024-06-22T02:00', '2024-06-22T03:00', '2024-06-22T04:00', '2024-06-22T05:00', '2024-06-22T06:00', '2024-06-22T07:00', '2024-06-22T08:00', '2024-06-22T09:00', '2024-06-22T10:00', '2024-06-22T11:00', '2024-06-22T12:00', '2024-06-22T13:00', '2024-06-22T14:00', '2024-06-22T15:00', '2024-06-22T16:00', '2024-06-22T17:00', '2024-06-22T18:00', '2024-06-22T19:00', '2024-06-22T20:00', '2024-06-22T21:00', '2024-06-22T22:00', '2024-06-22T23:00', '2024-06-23T00:00', '2024-06-23T01:00', '2024-06-23T02:00', '2024-06-23T03:00', '2024-06-23T04:00', '2024-06-23T05:00', '2024-06-23T06:00', '2024-06-23T07:00', '2024-06-23T08:00', '2024-06-23T09:00', '2024-06-23T10:00', '2024-06-23T11:00', '2024-06-23T12:00', '2024-06-23T13:00', '2024-06-23T14:00', '2024-06-23T15:00', '2024-06-23T16:00', '2024-06-23T17:00', '2024-06-23T18:00', '2024-06-23T19:00', '2024-06-23T20:00', '2024-06-23T21:00', '2024-06-23T22:00', '2024-06-23T23:00', '2024-06-24T00:00', '2024-06-24T01:00', '2024-06-24T02:00', '2024-06-24T03:00', '2024-06-24T04:00', '2024-06-24T05:00', '2024-06-24T06:00', '2024-06-24T07:00', '2024-06-24T08:00', '2024-06-24T09:00', '2024-06-24T10:00', '2024-06-24T11:00', '2024-06-24T12:00', '2024-06-24T13:00', '2024-06-24T14:00', '2024-06-24T15:00', '2024-06-24T16:00', '2024-06-24T17:00', '2024-06-24T18:00', '2024-06-24T19:00', '2024-06-24T20:00', '2024-06-24T21:00', '2024-06-24T22:00', '2024-06-24T23:00', '2024-06-25T00:00', '2024-06-25T01:00', '2024-06-25T02:00', '2024-06-25T03:00', '2024-06-25T04:00', '2024-06-25T05:00', '2024-06-25T06:00', '2024-06-25T07:00', '2024-06-25T08:00', '2024-06-25T09:00', '2024-06-25T10:00', '2024-06-25T11:00', '2024-06-25T12:00', '2024-06-25T13:00', '2024-06-25T14:00', '2024-06-25T15:00', '2024-06-25T16:00', '2024-06-25T17:00', '2024-06-25T18:00', '2024-06-25T19:00', '2024-06-25T20:00', '2024-06-25T21:00', '2024-06-25T22:00', '2024-06-25T23:00'], 'temperature_2m': [17.4, 17.2, 17.5, 17.0, 15.9, 15.5, 15.1, 15.6, 16.1, 16.9, 17.3, 17.7, 17.9, 17.5, 17.0, 16.4, 16.6, 17.4, 17.4, 16.6, 15.4, 14.8, 14.0, 13.4, 12.7, 12.0, 11.3, 10.7, 10.9, 12.1, 13.5, 15.3, 17.1, 18.7, 19.9, 21.0, 21.8, 22.4, 22.8, 23.0, 22.4, 21.8, 21.3, 19.9, 18.8, 18.3, 17.3, 16.9, 16.8, 16.6, 16.5, 16.2, 16.4, 17.1, 18.8, 19.7, 21.6, 24.0, 25.9, 27.0, 27.5, 27.6, 26.9, 23.6, 23.6, 23.3, 22.4, 21.5, 20.6, 19.9, 19.5, 18.6, 17.5, 16.7, 16.1, 15.6, 15.4, 15.7, 16.1, 16.9, 18.7, 20.0, 20.7, 21.7, 23.1, 23.7, 24.2, 24.1, 23.2, 21.7, 20.4, 19.5, 18.6, 17.9, 17.3, 16.9, 16.4, 15.9, 15.3, 15.1, 15.3, 15.9, 16.6, 17.2, 17.9, 18.7, 19.9, 21.4, 22.5, 23.4, 24.0, 24.2, 24.0, 23.4, 22.4, 21.0, 19.2, 17.9, 17.3, 17.1, 16.9, 16.2, 15.5, 15.3, 16.0, 17.2, 18.0, 18.3, 20.0, 21.4, 22.5, 23.4, 24.0, 24.5, 24.9, 24.9, 24.8, 24.3, 23.5, 22.1, 20.3, 18.8, 18.1, 17.7, 17.3, 16.6, 16.0, 15.8, 16.1, 16.9, 18.0, 19.8, 21.9, 23.7, 24.9, 25.9, 26.6, 27.0, 27.3, 27.3, 27.2, 26.9, 26.1, 24.7, 22.8, 21.1, 19.9, 18.8]}}\n"
     ]
    }
   ],
   "source": [
    "import requests\n",
    "\n",
    "def get_weather_forecast(latitude, longitude):\n",
    "    base_url = \"https://api.open-meteo.com/v1/forecast\"\n",
    "    params = {\n",
    "        \"latitude\": latitude,\n",
    "        \"longitude\": longitude,\n",
    "        \"hourly\": \"temperature_2m\"\n",
    "    }\n",
    "    response = requests.get(base_url, params=params)\n",
    "    return response.json()\n",
    "\n",
    "# Example usage:\n",
    "forecast = get_weather_forecast(52.52, 13.41)\n",
    "print(forecast)"
   ]
  }
 ],
 "metadata": {
  "kernelspec": {
   "display_name": "venv_ironhack",
   "language": "python",
   "name": "python3"
  },
  "language_info": {
   "codemirror_mode": {
    "name": "ipython",
    "version": 3
   },
   "file_extension": ".py",
   "mimetype": "text/x-python",
   "name": "python",
   "nbconvert_exporter": "python",
   "pygments_lexer": "ipython3",
   "version": "3.10.0"
  }
 },
 "nbformat": 4,
 "nbformat_minor": 2
}
