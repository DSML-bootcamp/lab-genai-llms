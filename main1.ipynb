{
 "cells": [
  {
   "cell_type": "markdown",
   "metadata": {},
   "source": [
    "# LAB GenAI - LLMs"
   ]
  },
  {
   "cell_type": "markdown",
   "metadata": {},
   "source": [
    "# OpenAI GPT API Exercises"
   ]
  },
  {
   "cell_type": "markdown",
   "metadata": {},
   "source": [
    "## 1. Basic Conversation\n",
    "**Exercise:** Create a simple chatbot that can answer basic questions about a given topic (e.g., history, technology).  \n",
    "**Parameters to explore:** `temperature`, `max_tokens`, `top_p`, `frequency_penalty`, `presence_penalty`, `n`, `stop`.\n",
    "\n",
    "Comment what happen when you change the parameters \n",
    "(read documentation!)"
   ]
  },
  {
   "cell_type": "markdown",
   "metadata": {},
   "source": []
  },
  {
   "cell_type": "code",
   "execution_count": 40,
   "metadata": {},
   "outputs": [],
   "source": [
    "import openai\n",
    "from openai import OpenAI\n",
    "\n",
    "# Initialize the OpenAI API key\n",
    "openai.api_key = ''"
   ]
  },
  {
   "cell_type": "code",
   "execution_count": 24,
   "metadata": {},
   "outputs": [
    {
     "name": "stdout",
     "output_type": "stream",
     "text": [
      "Response with default parameters:\n",
      " Napoleon Bonaparte was a French military general and political leader who rose to prominence during the French Revolution in the late 18th century. He became the Emperor of France in 1804 and went on to expand the French Empire across much of Europe through a series of military conquests known as the Napoleonic Wars.\n",
      "\n",
      "Among his achievements, Napoleon centralized the French government, established the Napoleonic Code (a civil legal code that is still influential today), and implemented various reforms in education, infrastructure, and the economy. He also played a significant role in spreading the ideas of the French Revolution throughout Europe, including concepts such as nationalism and meritocracy.\n",
      "\n",
      "However, Napoleon's ambitions eventually led to his downfall. He faced a series of military\n",
      "\n",
      "Response with high temperature:\n",
      " Napoleon Bonaparte was a prominent military leader and emperor of France in the early 19th century. He rose to power during the French Revolution and eventually became the leader of France after a series of successful military campaigns.\n",
      "\n",
      "Napoleon's most significant achievements include:\n",
      "1. Military conquests: Napoleon led France to victory in numerous conflicts, expanding the French Empire across much of Europe. Some of his most notable victories include the Battle of Austerlitz in 1805 and the Battle of Borodino in 1812.\n",
      "\n",
      "2. Napoleonic Code: Napoleon implemented a set of civil laws known as the Napoleonic Code, which streamlined and modernized the French legal system. This code influenced legal systems in many countries around\n",
      "\n",
      "Response with low temperature:\n",
      " Napoleon Bonaparte was a French military and political leader who rose to prominence during the French Revolution in the late 18th century. He became Emperor of the French in 1804 and ruled over much of Europe during the early 19th century. \n",
      "\n",
      "Napoleon is best known for his military conquests and the Napoleonic Wars, a series of conflicts between France and various European powers. He won a series of impressive victories, such as the Battle of Austerlitz in 1805 and the Battle of Jena-Auerstedt in 1806, which solidified his reputation as a brilliant military strategist.\n",
      "\n",
      "In addition to his military achievements, Napoleon implemented a series of reforms in France known as the Napole\n",
      "\n",
      "Response with fewer max tokens:\n",
      " Napoleon Bonaparte was a French military and political leader who rose to prominence during the French Revolution in the late 18th century. He became Emperor of the French from 1804 until 1814, and again briefly in 181\n",
      "\n",
      "Response with stop sequence:\n",
      " \n",
      "\n",
      "Response with high frequency penalty:\n",
      " Napoleon Bonaparte was a prominent military and political leader in France during the late 18th and early 19th centuries. He rose to power during the French Revolution, eventually becoming the Emperor of France from 1804 to 1814.\n",
      "\n",
      "One of Napoleon's most significant achievements was his military conquests, which greatly expanded the French Empire across Europe. Some of his major victories include the Battle of Austerlitz in 1805 and the Battle of Jena-Auerstedt in 1806.\n",
      "\n",
      "Napoleon also implemented a series of important reforms in France, known as the Napoleonic Code. This legal code standardized laws across the country, promoting equality before the law and protecting individual rights.\n",
      "\n",
      "However, Napoleon's\n",
      "\n",
      "Response with high presence penalty:\n",
      " Napoleon Bonaparte was a prominent French military and political leader who rose to power during the French Revolution in the late 18th century. He became Emperor of the French in 1804 and is often regarded as one of the greatest military commanders in history.\n",
      "\n",
      "Napoleon achieved several significant accomplishments during his rule, including centralizing power in France, implementing a series of legal reforms known as the Napoleonic Code, and expanding French territory through a series of military campaigns across Europe. Some of his most notable victories include the Battle of Austerlitz in 1805 and the Battle of Borodino in 1812.\n",
      "\n",
      "However, Napoleon's reign ultimately came to an end with his defeat at the Battle of Waterloo in 181\n"
     ]
    }
   ],
   "source": [
    "client = OpenAI(\n",
    "    # This is the default and can be omitted\n",
    "    api_key=openai.api_key,\n",
    ")\n",
    "\n",
    "def history_teacher_prompt(string, temperature=0.7, max_tokens=150, top_p=1.0, frequency_penalty=0.0, presence_penalty=0.0, n=1, stop=None):\n",
    "    messages = [\n",
    "        {\n",
    "            \"role\": \"system\",\n",
    "            \"content\": \"You need to answer like a history teacher would answer to a student, giving details and dates in a manner everyone can understand despite their lack of knowledge.\"\n",
    "        },\n",
    "        {\n",
    "            \"role\": \"user\",\n",
    "            \"content\": string\n",
    "        }\n",
    "    ]\n",
    "\n",
    "    chat_completion = client.chat.completions.create(\n",
    "        messages=messages,\n",
    "        model=\"gpt-3.5-turbo\",\n",
    "        temperature=temperature,\n",
    "        max_tokens=max_tokens,\n",
    "        top_p=top_p,\n",
    "        frequency_penalty=frequency_penalty,\n",
    "        presence_penalty=presence_penalty,\n",
    "        n=n,\n",
    "        stop=stop,\n",
    "    )\n",
    "\n",
    "    return chat_completion.choices[0].message.content\n",
    "\n",
    "# Showcase different requests with varied parameter values\n",
    "    # Default parameters\n",
    "\n",
    "response1 = history_teacher_prompt('Who is Napoleon and what did he achieve?')\n",
    "print(\"Response with default parameters:\\n\", response1)\n",
    "\n",
    "# High temperature (more creative)\n",
    "response2 = history_teacher_prompt('Who is Napoleon and what did he achieve?', temperature=1.0)\n",
    "print(\"\\nResponse with high temperature:\\n\", response2)\n",
    "\n",
    "# Low temperature (more deterministic)\n",
    "response3 = history_teacher_prompt('Who is Napoleon and what did he achieve?', temperature=0.3)\n",
    "print(\"\\nResponse with low temperature:\\n\", response3)\n",
    "\n",
    "# Shorter response\n",
    "response4 = history_teacher_prompt('Who is Napoleon and what did he achieve?', max_tokens=50)\n",
    "print(\"\\nResponse with fewer max tokens:\\n\", response4)\n",
    "\n",
    "# Including stop sequence\n",
    "response5 = history_teacher_prompt('Who is Napoleon and what did he achieve?', stop=[\"Napoleon\"])\n",
    "print(\"\\nResponse with stop sequence:\\n\", response5)\n",
    "\n",
    "# High frequency penalty (discourages repetition)\n",
    "response6 = history_teacher_prompt('Who is Napoleon and what did he achieve?', frequency_penalty=1.0)\n",
    "print(\"\\nResponse with high frequency penalty:\\n\", response6)\n",
    "\n",
    "# Presence penalty (encourages new topics)\n",
    "response7 = history_teacher_prompt('Who is Napoleon and what did he achieve?', presence_penalty=1.0)\n",
    "print(\"\\nResponse with high presence penalty:\\n\", response7)\n"
   ]
  },
  {
   "cell_type": "code",
   "execution_count": 23,
   "metadata": {},
   "outputs": [
    {
     "data": {
      "text/plain": [
       "\"Napoleon Bonaparte was a French military general and emperor who rose to prominence during the French Revolution in the late 18th century. He eventually became the ruler of France and conquered much of continental Europe in the early 19th century.\\n\\nNapoleon's most notable achievements include instituting a series of legal reforms known as the Napoleonic Code, which influenced legal systems around the world. He also centralized the government, established a system of merit-based promotion for officials, and implemented public education reforms.\\n\\nIn terms of military conquests, Napoleon is known for his victories in battles such as Austerlitz, Jena, and Wagram. However, his military campaigns eventually led to his downfall, as he faced defeats in battles such as Leipzig and Waterloo.\\n\\nNapoleon was eventually exiled to the island of Saint Helena, where he died in 1821. Despite his eventual defeat, Napoleon's legacy continues to be the subject of historical debate, with some viewing him as a military genius and others as a power-hungry dictator.\""
      ]
     },
     "execution_count": 23,
     "metadata": {},
     "output_type": "execute_result"
    }
   ],
   "source": [
    "# Call the function\n",
    "history_teacher_prompt('Who is Napoleon and what did he achieve?')"
   ]
  },
  {
   "cell_type": "markdown",
   "metadata": {},
   "source": [
    "Temperature: more temperature increases the creativity, lower increases the determinism of the output.\n",
    "\n",
    "Max Tokens: Limits the length of the generated response.\n",
    "\n",
    "Top P: high = gives back the most likely tokens and makes the generation diverse, low = restricts to 10% of probable tokens, output becomes conservative and less diverse.\n",
    "\n",
    "Frequency Penalty: Reduces repetition by penalizing word reuse as we increase it.\n",
    "\n",
    "Presence Penalty: Encourages the introduction of new topics by penalizing repeated concepts as we increase it.\n",
    "\n",
    "Number of Responses: Allows generating multiple responses based on a number for comparison.\n",
    "\n",
    "Stop Sequence: Defines a point at which the response generation stops.\n"
   ]
  },
  {
   "cell_type": "markdown",
   "metadata": {},
   "source": [
    "## 2. Summarization\n",
    "**Exercise:** Write a script that takes a long text input and summarizes it into a few sentences.  \n",
    "**Parameters to explore:** `temperature`, `max_tokens`, `top_p`, `frequency_penalty`, `presence_penalty`, `best_of`, `logprobs`.\n",
    "\n",
    "Comment what happen when you change the parameters \n",
    "(read documentation!)"
   ]
  },
  {
   "cell_type": "code",
   "execution_count": 28,
   "metadata": {},
   "outputs": [],
   "source": [
    "client = OpenAI(\n",
    "    # This is the default and can be omitted\n",
    "    api_key=openai.api_key,\n",
    ")\n",
    "\n",
    "def summarize_text(text, temperature=0.7, max_tokens=100, top_p=1.0, frequency_penalty=0.0, presence_penalty=0.0, best_of=1, logprobs=None):\n",
    "    messages = [\n",
    "        {\n",
    "            \"role\": \"system\",\n",
    "            \"content\": \"You need to summarize the given text into a few sentences in a manner that retains the key points and main ideas.\"\n",
    "        },\n",
    "        {\n",
    "            \"role\": \"user\",\n",
    "            \"content\": text\n",
    "        }\n",
    "    ]\n",
    "\n",
    "    chat_completion = client.chat.completions.create(\n",
    "        messages=messages,\n",
    "        model=\"gpt-3.5-turbo\",\n",
    "        temperature=temperature,\n",
    "        max_tokens=max_tokens,\n",
    "        top_p=top_p,\n",
    "        frequency_penalty=frequency_penalty,\n",
    "        presence_penalty=presence_penalty,\n",
    "        logprobs=logprobs,\n",
    "    )\n",
    "\n",
    "    return chat_completion.choices[0].message.content"
   ]
  },
  {
   "cell_type": "code",
   "execution_count": 29,
   "metadata": {},
   "outputs": [
    {
     "name": "stdout",
     "output_type": "stream",
     "text": [
      "Summary with default parameters:\n",
      " Napoleon Bonaparte was a prominent French military and political leader who played a significant role during the French Revolution and Revolutionary Wars. He became Emperor of the French in 1804 and led successful campaigns in the Napoleonic Wars, dominating European affairs for over a decade. Known for his military prowess, Napoleon's legacy as a commander and leader remains influential and controversial in history.\n"
     ]
    }
   ],
   "source": [
    "# Example usage in a Jupyter Notebook\n",
    "text_to_summarize = \"\"\"\n",
    "Napoleon Bonaparte was a French military and political leader who rose to prominence during the French Revolution and led several successful campaigns during the Revolutionary Wars. He was Emperor of the French from 1804 until 1814, and again in 1815 during the Hundred Days. Napoleon dominated European and global affairs for more than a decade while leading France against a series of coalitions in the Napoleonic Wars. He won most of these wars and the vast majority of his battles, building a large empire that ruled over much of continental Europe before its final collapse in 1815. One of the greatest commanders in history, his wars and campaigns are studied at military academies worldwide. Napoleon's political and cultural legacy has endured as one of the most celebrated and controversial leaders in human history.\n",
    "\"\"\"\n",
    "\n",
    "summary = summarize_text(text_to_summarize)\n",
    "print(\"Summary with default parameters:\\n\", summary)"
   ]
  },
  {
   "cell_type": "code",
   "execution_count": 30,
   "metadata": {},
   "outputs": [
    {
     "name": "stdout",
     "output_type": "stream",
     "text": [
      "Summary with high temperature:\n",
      " Napoleon Bonaparte was a prominent French military and political leader known for his successes during the French Revolution and Napoleonic Wars, serving as Emperor of France from 1804 to 1815. He dominated European affairs, leading France to victory in many battles and expanding its empire across continental Europe. As one of history's greatest commanders, his military strategies continue to be studied globally, and his legacy remains both celebrated and debated.\n"
     ]
    }
   ],
   "source": [
    "summary2 = summarize_text(text_to_summarize, temperature=1.0)\n",
    "print(\"Summary with high temperature:\\n\", summary2)"
   ]
  },
  {
   "cell_type": "code",
   "execution_count": 31,
   "metadata": {},
   "outputs": [
    {
     "name": "stdout",
     "output_type": "stream",
     "text": [
      "Summary with low temperature:\n",
      " Napoleon Bonaparte was a prominent French military and political leader who played a significant role during the French Revolution and Revolutionary Wars. He became Emperor of the French in 1804 and led successful campaigns during the Napoleonic Wars, dominating European affairs for over a decade. Napoleon's legacy as a skilled commander and controversial figure continues to be studied and debated globally.\n"
     ]
    }
   ],
   "source": [
    "summary3 = summarize_text(text_to_summarize, temperature=0.3)\n",
    "print(\"Summary with low temperature:\\n\", summary3)"
   ]
  },
  {
   "cell_type": "code",
   "execution_count": 32,
   "metadata": {},
   "outputs": [
    {
     "name": "stdout",
     "output_type": "stream",
     "text": [
      "Summary with shorter max tokens:\n",
      " Napoleon Bonaparte was a prominent French military and political leader who played a significant role during the French Revolution and the Revolutionary Wars. As Emperor of the French from 1804 to 1815, he led successful campaigns in the Napole\n"
     ]
    }
   ],
   "source": [
    "summary4 = summarize_text(text_to_summarize, max_tokens=50)\n",
    "print(\"Summary with shorter max tokens:\\n\", summary4)"
   ]
  },
  {
   "cell_type": "code",
   "execution_count": 33,
   "metadata": {},
   "outputs": [
    {
     "name": "stdout",
     "output_type": "stream",
     "text": [
      "Summary with longer max tokens:\n",
      " Napoleon Bonaparte was a prominent French military and political leader who played a significant role during the French Revolution and Revolutionary Wars. He served as Emperor of the French from 1804 to 1814, with a brief return in 1815. Napoleon led France in the Napoleonic Wars against various coalitions, winning most battles and expanding his empire over continental Europe until its downfall in 1815. His military prowess and strategic campaigns are widely studied, and he remains a celebrated yet controversial figure in history.\n"
     ]
    }
   ],
   "source": [
    "summary5 = summarize_text(text_to_summarize, max_tokens=200)\n",
    "print(\"Summary with longer max tokens:\\n\", summary5)"
   ]
  },
  {
   "cell_type": "code",
   "execution_count": 34,
   "metadata": {},
   "outputs": [
    {
     "name": "stdout",
     "output_type": "stream",
     "text": [
      "Summary with low top_p:\n",
      " Napoleon Bonaparte was a prominent French military and political leader who played a significant role during the French Revolution and Revolutionary Wars. He became Emperor of the French in 1804 and led successful campaigns against various coalitions in the Napoleonic Wars, expanding his empire across continental Europe. Known for his military prowess, Napoleon's legacy as a celebrated and controversial leader remains influential, with his wars and campaigns studied globally.\n"
     ]
    }
   ],
   "source": [
    "summary6 = summarize_text(text_to_summarize, top_p=0.5)\n",
    "print(\"Summary with low top_p:\\n\", summary6)"
   ]
  },
  {
   "cell_type": "code",
   "execution_count": 35,
   "metadata": {},
   "outputs": [
    {
     "name": "stdout",
     "output_type": "stream",
     "text": [
      "Summary with high frequency penalty:\n",
      " Napoleon Bonaparte was a prominent French military and political leader who played a significant role during the French Revolution and Revolutionary Wars. He became Emperor of the French in 1804, leading successful campaigns until his empire's collapse in 1815. Napoleon's dominance in European affairs during the Napoleonic Wars left a lasting legacy, with his military strategies and political influence being widely studied and debated globally.\n"
     ]
    }
   ],
   "source": [
    "summary7 = summarize_text(text_to_summarize, frequency_penalty=1.0)\n",
    "print(\"Summary with high frequency penalty:\\n\", summary7)"
   ]
  },
  {
   "cell_type": "code",
   "execution_count": 36,
   "metadata": {},
   "outputs": [
    {
     "name": "stdout",
     "output_type": "stream",
     "text": [
      "Summary with high presence penalty:\n",
      " Napoleon Bonaparte was a French military and political leader who played a significant role during the French Revolution and Revolutionary Wars, becoming Emperor of the French in 1804. He led successful campaigns in various wars, dominating European affairs for over a decade and building a vast empire that ruled much of continental Europe. His military strategies are still studied globally, and he is considered one of history's greatest commanders, with a lasting legacy as a celebrated and controversial leader.\n"
     ]
    }
   ],
   "source": [
    "summary8 = summarize_text(text_to_summarize, presence_penalty=1.0)\n",
    "print(\"Summary with high presence penalty:\\n\", summary8)"
   ]
  },
  {
   "cell_type": "code",
   "execution_count": 38,
   "metadata": {},
   "outputs": [
    {
     "name": "stdout",
     "output_type": "stream",
     "text": [
      "Summary with logprobs parameter:\n",
      " Napoleon Bonaparte, a prominent French military and political figure, played a significant role during the French Revolution and Revolutionary Wars, becoming Emperor of the French in 1804. He led successful campaigns and dominated European affairs during the Napoleonic Wars, winning most battles and expanding his empire over continental Europe until its downfall in 1815. Considered one of the greatest commanders in history, his legacy is renowned and scrutinized worldwide for his military prowess and controversial leadership.\n"
     ]
    }
   ],
   "source": [
    "summary9 = summarize_text(text_to_summarize, logprobs=True)\n",
    "print(\"Summary with logprobs parameter:\\n\", summary9)"
   ]
  },
  {
   "cell_type": "code",
   "execution_count": 39,
   "metadata": {},
   "outputs": [
    {
     "name": "stdout",
     "output_type": "stream",
     "text": [
      "Summary without logprobs parameter:\n",
      " Napoleon Bonaparte was a prominent French military and political leader who played a significant role during the French Revolution and the Revolutionary Wars. He became Emperor of the French in 1804 and led successful campaigns across Europe during the Napoleonic Wars, dominating global affairs for over a decade. Widely regarded as one of the greatest commanders in history, his legacy remains a subject of study and debate worldwide due to his lasting impact on European history.\n"
     ]
    }
   ],
   "source": [
    "summary10 = summarize_text(text_to_summarize, logprobs=False)\n",
    "print(\"Summary without logprobs parameter:\\n\", summary10)"
   ]
  },
  {
   "cell_type": "markdown",
   "metadata": {},
   "source": [
    "Same parameters explanation as above"
   ]
  },
  {
   "cell_type": "markdown",
   "metadata": {},
   "source": [
    "## 3. Translation\n",
    "**Exercise:** Develop a tool that translates text from one language to another using the API.  \n",
    "**Parameters to explore:** `temperature`, `max_tokens`, `top_p`, `frequency_penalty`, `presence_penalty`, `echo`, `logit_bias`.\n",
    "\n",
    "Comment what happen when you change the parameters \n",
    "(read documentation!)"
   ]
  },
  {
   "cell_type": "code",
   "execution_count": 47,
   "metadata": {},
   "outputs": [],
   "source": [
    "def translate_spanish_to_french(text, temperature=0.7, max_tokens=150, top_p=1.0, frequency_penalty=0.0, presence_penalty=0.0, logit_bias=None):\n",
    "    \n",
    "    client = OpenAI(\n",
    "    api_key=openai.api_key,\n",
    "    )\n",
    "    \n",
    "    messages = [\n",
    "        {\n",
    "            \"role\": \"system\",\n",
    "            \"content\": \"You are a translation assistant. Translate the following text from Spanish to French.\"\n",
    "        },\n",
    "        {\n",
    "            \"role\": \"user\",\n",
    "            \"content\": text\n",
    "        }\n",
    "    ]\n",
    "\n",
    "    chat_completion = client.chat.completions.create(\n",
    "        messages=messages,\n",
    "        model=\"gpt-3.5-turbo\",\n",
    "        temperature=temperature,\n",
    "        max_tokens=max_tokens,\n",
    "        top_p=top_p,\n",
    "        frequency_penalty=frequency_penalty,\n",
    "        presence_penalty=presence_penalty,\n",
    "        logit_bias=logit_bias,\n",
    "    )\n",
    "\n",
    "    return chat_completion.choices[0].message.content"
   ]
  },
  {
   "cell_type": "code",
   "execution_count": 48,
   "metadata": {},
   "outputs": [
    {
     "name": "stdout",
     "output_type": "stream",
     "text": [
      "Translation with default parameters:\n",
      " L'automne est une saison magique de l'année.\n",
      "\n",
      "Les arbres changent de couleur, passant du vert vibrant à des tons chauds de rouge, d'orange et de jaune.\n",
      "\n",
      "Les feuilles tombent doucement au sol, créant un tapis croustillant sous les pieds.\n",
      "\n",
      "C'est une période parfaite pour de longues promenades dans le parc et profiter de l'air frais.\n",
      "\n",
      "De plus, l'automne apporte avec lui la récolte de pommes et de citrouilles, remplissant les marchés de saveurs et d'arômes délicieux.\n",
      "\n",
      "Translation with high temperature:\n",
      " L'automne est une saison magique de l'année.\n",
      "\n",
      "Les arbres changent de couleur, passant du vert vibrant à des tons chauds de rouge, d'orange et de jaune.\n",
      "\n",
      "Les feuilles tombent doucement au sol, créant un tapis croustillant sous les pieds.\n",
      "\n",
      "C'est un moment parfait pour de longues promenades dans le parc et profiter de l'air frais.\n",
      "\n",
      "De plus, l'automne apporte la récolte des pommes et des citrouilles, remplissant les marchés de saveurs et d'arômes délicieux.\n",
      "\n",
      "Translation with low temperature:\n",
      " L'automne est une saison magique de l'année.\n",
      "\n",
      "Les arbres changent de couleur, passant du vert vibrant à des tons chauds de rouge, d'orange et de jaune.\n",
      "\n",
      "Les feuilles tombent doucement au sol, créant un tapis croustillant sous les pieds.\n",
      "\n",
      "C'est une période parfaite pour de longues promenades dans le parc et profiter de l'air frais.\n",
      "\n",
      "De plus, l'automne apporte avec lui la récolte de pommes et de citrouilles, remplissant les marchés de saveurs et d'arômes délicieux.\n",
      "\n",
      "Translation with shorter max tokens:\n",
      " L'automne est une saison magique de l'année.\n",
      "\n",
      "Les arbres changent de couleur, passant du vert vibrant à des tons chauds de rouge, d'orange et de jaune.\n",
      "\n",
      "Les feuilles tombent douc\n",
      "\n",
      "Translation with low top_p:\n",
      " L'automne est une saison magique de l'année.\n",
      "\n",
      "Les arbres changent de couleur, passant du vert vibrant à des tons chauds de rouge, d'orange et de jaune.\n",
      "\n",
      "Les feuilles tombent doucement au sol, créant un tapis croustillant sous les pieds.\n",
      "\n",
      "C'est un moment parfait pour de longues promenades dans le parc et profiter de l'air frais.\n",
      "\n",
      "De plus, l'automne apporte avec lui la récolte de pommes et de citrouilles, remplissant les marchés de saveurs et d'arômes délicieux.\n",
      "\n",
      "Translation with high frequency penalty:\n",
      " L'automne est une saison magique de l'année.\n",
      "\n",
      "Les arbres changent de couleur, passant du vert vif à des tons chauds de rouge, orange et jaune.\n",
      "\n",
      "Les feuilles tombent doucement au sol, créant un tapis croustillant sous les pieds.\n",
      "\n",
      "C'est une période parfaite pour faire de longues promenades dans le parc et profiter de l'air frais.\n",
      "\n",
      "De plus, l'automne apporte avec lui la récolte des pommes et des citrouilles, remplissant les marchés de saveurs et d'arômes délicieux.\n",
      "\n",
      "Translation with high presence penalty:\n",
      " L'automne est une saison magique de l'année.\n",
      "\n",
      "    Les arbres changent de couleur, passant du vert vibrant à des tons chauds de rouge, d'orange et de jaune.\n",
      "\n",
      "    Les feuilles tombent doucement au sol, créant un tapis croustillant sous les pieds.\n",
      "\n",
      "    C'est un moment parfait pour faire de longues promenades dans le parc et profiter de l'air frais.\n",
      "\n",
      "    De plus, l'automne apporte avec lui la récolte de pommes et de citrouilles, remplissant les marchés de saveurs et d'arômes délicieux.\n",
      "\n",
      "Translation with logit bias:\n",
      " L'automne est une saison magique de l'année.\n",
      "\n",
      "Les arbres changent de couleur, passant du vert vif à des tons chaleureux de rouge, orange et jaune.\n",
      "\n",
      "Les feuilles tombent doucement au sol, créant un tapis croustillant sous les pieds.\n",
      "\n",
      "C'est le moment idéal pour de longues promenades dans le parc et profiter de l'air frais.\n",
      "\n",
      "De plus, l'automne apporte avec lui la récolte des pommes et des citrouilles, remplissant les marchés de saveurs et d'arômes délicieux.\n"
     ]
    }
   ],
   "source": [
    "# Translation with default parameters\n",
    "spanish_sentence = \"\"\"El otoño es una estación mágica del año.\\n\"\n",
    "    \"Los árboles cambian de color, pasando del verde vibrante a tonos cálidos de rojo, naranja y amarillo.\\n\"\n",
    "    \"Las hojas caen suavemente al suelo, creando una alfombra crujiente bajo los pies.\\n\"\n",
    "    \"Es una época perfecta para dar largos paseos por el parque y disfrutar del aire fresco.\\n\"\n",
    "    \"Además, el otoño trae consigo la cosecha de manzanas y calabazas, llenando los mercados de sabores y aromas deliciosos.\"\"\"\n",
    "\n",
    "translation = translate_spanish_to_french(spanish_sentence)\n",
    "print(\"Translation with default parameters:\\n\", translation)\n",
    "\n",
    "# Additional translations with varied parameters\n",
    "translation_high_temp = translate_spanish_to_french(spanish_sentence, temperature=1.0)\n",
    "print(\"\\nTranslation with high temperature:\\n\", translation_high_temp)\n",
    "\n",
    "translation_low_temp = translate_spanish_to_french(spanish_sentence, temperature=0.3)\n",
    "print(\"\\nTranslation with low temperature:\\n\", translation_low_temp)\n",
    "\n",
    "translation_short = translate_spanish_to_french(spanish_sentence, max_tokens=50)\n",
    "print(\"\\nTranslation with shorter max tokens:\\n\", translation_short)\n",
    "\n",
    "translation_high_top_p = translate_spanish_to_french(spanish_sentence, top_p=0.5)\n",
    "print(\"\\nTranslation with low top_p:\\n\", translation_high_top_p)\n",
    "\n",
    "translation_high_freq_penalty = translate_spanish_to_french(spanish_sentence, frequency_penalty=1.0)\n",
    "print(\"\\nTranslation with high frequency penalty:\\n\", translation_high_freq_penalty)\n",
    "\n",
    "translation_high_presence_penalty = translate_spanish_to_french(spanish_sentence, presence_penalty=1.0)\n",
    "print(\"\\nTranslation with high presence penalty:\\n\", translation_high_presence_penalty)\n",
    "\n",
    "logit_bias_example = {50256: -100}  # This is just an example, preventing the token 50256 from appearing\n",
    "translation_logit_bias = translate_spanish_to_french(spanish_sentence, logit_bias=logit_bias_example)\n",
    "print(\"\\nTranslation with logit bias:\\n\", translation_logit_bias)\n"
   ]
  },
  {
   "cell_type": "markdown",
   "metadata": {},
   "source": [
    "Same parameters explanation as above.\n",
    "\n",
    "With the max token value we see the sentence gets cut in the middle.\n",
    "\n",
    "Low temperature changes a few words"
   ]
  },
  {
   "cell_type": "markdown",
   "metadata": {},
   "source": [
    "## 4. Sentiment Analysis\n",
    "**Exercise:** Implement a sentiment analysis tool that determines the sentiment of a given text (positive, negative, neutral).  \n",
    "**Parameters to explore:** `temperature`, `max_tokens`, `top_p`, `frequency_penalty`, `presence_penalty`, `n`, `logprobs`.\n",
    "\n",
    "Comment what happen when you change the parameters \n",
    "(read documentation!)"
   ]
  },
  {
   "cell_type": "code",
   "execution_count": 49,
   "metadata": {},
   "outputs": [],
   "source": [
    "def analyze_sentiment(text, temperature=0.7, max_tokens=50, top_p=1.0, frequency_penalty=0.0, presence_penalty=0.0, n=1, logprobs=None):\n",
    "    \n",
    "    client = OpenAI(\n",
    "        api_key=openai.api_key,\n",
    "    )\n",
    "    \n",
    "    messages = [\n",
    "        {\n",
    "            \"role\": \"system\",\n",
    "            \"content\": \"You are a sentiment analysis assistant. Analyze the sentiment of the following text and respond with 'positive', 'negative', or 'neutral'.\"\n",
    "        },\n",
    "        {\n",
    "            \"role\": \"user\",\n",
    "            \"content\": text\n",
    "        }\n",
    "    ]\n",
    "\n",
    "    chat_completion = client.chat.completions.create(\n",
    "        messages=messages,\n",
    "        model=\"gpt-3.5-turbo\",\n",
    "        temperature=temperature,\n",
    "        max_tokens=max_tokens,\n",
    "        top_p=top_p,\n",
    "        frequency_penalty=frequency_penalty,\n",
    "        presence_penalty=presence_penalty,\n",
    "        n=n,\n",
    "        logprobs=logprobs,\n",
    "    )\n",
    "\n",
    "    return chat_completion.choices[0].message.content"
   ]
  },
  {
   "cell_type": "code",
   "execution_count": 51,
   "metadata": {},
   "outputs": [
    {
     "name": "stdout",
     "output_type": "stream",
     "text": [
      "Sentiment with default parameters:\n",
      " positive\n",
      "\n",
      "Sentiment with high temperature:\n",
      " positive\n",
      "\n",
      "Sentiment with low temperature:\n",
      " positive\n",
      "\n",
      "Sentiment with shorter max tokens:\n",
      " positive\n",
      "\n",
      "Sentiment with low top_p:\n",
      " positive\n",
      "\n",
      "Sentiment with high frequency penalty:\n",
      " positive\n",
      "\n",
      "Sentiment with high presence penalty:\n",
      " positive\n",
      "\n",
      "Sentiments with multiple responses:\n",
      " positive\n",
      "\n",
      "Sentiment with logprobs as True:\n",
      " positive\n",
      "\n",
      "Sentiment with logprobs as False:\n",
      " positive\n"
     ]
    }
   ],
   "source": [
    "english_prompt = \"I absolutely loved the new movie. It was fantastic and had great performances.\"\n",
    "\n",
    "# Default parameters\n",
    "sentiment_default = analyze_sentiment(english_prompt)\n",
    "print(\"Sentiment with default parameters:\\n\", sentiment_default)\n",
    "\n",
    "# High temperature (more creative)\n",
    "sentiment_high_temp = analyze_sentiment(english_prompt, temperature=1.0)\n",
    "print(\"\\nSentiment with high temperature:\\n\", sentiment_high_temp)\n",
    "\n",
    "# Low temperature (more deterministic)\n",
    "sentiment_low_temp = analyze_sentiment(english_prompt, temperature=0.3)\n",
    "print(\"\\nSentiment with low temperature:\\n\", sentiment_low_temp)\n",
    "\n",
    "# Shorter response\n",
    "sentiment_short = analyze_sentiment(english_prompt, max_tokens=10)\n",
    "print(\"\\nSentiment with shorter max tokens:\\n\", sentiment_short)\n",
    "\n",
    "# Lower top_p (more conservative)\n",
    "sentiment_low_top_p = analyze_sentiment(english_prompt, top_p=0.5)\n",
    "print(\"\\nSentiment with low top_p:\\n\", sentiment_low_top_p)\n",
    "\n",
    "# High frequency penalty (reduces repetition)\n",
    "sentiment_high_freq_penalty = analyze_sentiment(english_prompt, frequency_penalty=1.0)\n",
    "print(\"\\nSentiment with high frequency penalty:\\n\", sentiment_high_freq_penalty)\n",
    "\n",
    "# High presence penalty (encourages new words)\n",
    "sentiment_high_presence_penalty = analyze_sentiment(english_prompt, presence_penalty=1.0)\n",
    "print(\"\\nSentiment with high presence penalty:\\n\", sentiment_high_presence_penalty)\n",
    "\n",
    "# Multiple responses (n=3)\n",
    "sentiments_multiple = analyze_sentiment(english_prompt, n=3)\n",
    "print(\"\\nSentiments with multiple responses:\\n\", sentiments_multiple)\n",
    "\n",
    "# Logprobs enabled\n",
    "sentiment_logprobs = analyze_sentiment(english_prompt, logprobs=True)\n",
    "print(\"\\nSentiment with logprobs as True:\\n\", sentiment_logprobs)\n",
    "\n",
    "sentiment_logprobs = analyze_sentiment(english_prompt, logprobs=False)\n",
    "print(\"\\nSentiment with logprobs as False:\\n\", sentiment_logprobs)"
   ]
  },
  {
   "cell_type": "markdown",
   "metadata": {},
   "source": [
    "Here we see that since the sentence is easy to classify as positive, the reponses are all the same no matter the parameters."
   ]
  },
  {
   "cell_type": "code",
   "execution_count": 52,
   "metadata": {},
   "outputs": [
    {
     "name": "stdout",
     "output_type": "stream",
     "text": [
      "Sentiment with default parameters:\n",
      " negative\n",
      "\n",
      "Sentiment with high temperature:\n",
      " mixed\n",
      "\n",
      "Sentiment with low temperature:\n",
      " mixed\n",
      "\n",
      "Sentiment with shorter max tokens:\n",
      " negative\n",
      "\n",
      "Sentiment with low top_p:\n",
      " negative\n",
      "\n",
      "Sentiment with high frequency penalty:\n",
      " negative\n",
      "\n",
      "Sentiment with high presence penalty:\n",
      " mixed\n",
      "\n",
      "Sentiments with multiple responses:\n",
      " negative\n",
      "\n",
      "Sentiment with logprobs as True:\n",
      " negative\n",
      "\n",
      "Sentiment with logprobs as False:\n",
      " negative\n"
     ]
    }
   ],
   "source": [
    "# Now with a more nuanced sentence\n",
    "english_prompt = \"I enjoyed parts of the movie, but some scenes were too slow and the ending was disappointing.\"\n",
    "\n",
    "# Default parameters\n",
    "sentiment_default = analyze_sentiment(english_prompt)\n",
    "print(\"Sentiment with default parameters:\\n\", sentiment_default)\n",
    "\n",
    "# High temperature (more creative)\n",
    "sentiment_high_temp = analyze_sentiment(english_prompt, temperature=1.0)\n",
    "print(\"\\nSentiment with high temperature:\\n\", sentiment_high_temp)\n",
    "\n",
    "# Low temperature (more deterministic)\n",
    "sentiment_low_temp = analyze_sentiment(english_prompt, temperature=0.3)\n",
    "print(\"\\nSentiment with low temperature:\\n\", sentiment_low_temp)\n",
    "\n",
    "# Shorter response\n",
    "sentiment_short = analyze_sentiment(english_prompt, max_tokens=10)\n",
    "print(\"\\nSentiment with shorter max tokens:\\n\", sentiment_short)\n",
    "\n",
    "# Lower top_p (more conservative)\n",
    "sentiment_low_top_p = analyze_sentiment(english_prompt, top_p=0.5)\n",
    "print(\"\\nSentiment with low top_p:\\n\", sentiment_low_top_p)\n",
    "\n",
    "# High frequency penalty (reduces repetition)\n",
    "sentiment_high_freq_penalty = analyze_sentiment(english_prompt, frequency_penalty=1.0)\n",
    "print(\"\\nSentiment with high frequency penalty:\\n\", sentiment_high_freq_penalty)\n",
    "\n",
    "# High presence penalty (encourages new words)\n",
    "sentiment_high_presence_penalty = analyze_sentiment(english_prompt, presence_penalty=1.0)\n",
    "print(\"\\nSentiment with high presence penalty:\\n\", sentiment_high_presence_penalty)\n",
    "\n",
    "# Multiple responses (n=3)\n",
    "sentiments_multiple = analyze_sentiment(english_prompt, n=3)\n",
    "print(\"\\nSentiments with multiple responses:\\n\", sentiments_multiple)\n",
    "\n",
    "# Logprobs enabled\n",
    "sentiment_logprobs = analyze_sentiment(english_prompt, logprobs=True)\n",
    "print(\"\\nSentiment with logprobs as True:\\n\", sentiment_logprobs)\n",
    "\n",
    "sentiment_logprobs = analyze_sentiment(english_prompt, logprobs=False)\n",
    "print(\"\\nSentiment with logprobs as False:\\n\", sentiment_logprobs)"
   ]
  },
  {
   "cell_type": "markdown",
   "metadata": {},
   "source": [
    "Interesting, even though we said to output neutral, positive or negative gpt returned mixed when he was unsure of the sentiment of the sentence.\n",
    "\n",
    "When we input a high presence penalty, gpt returned mixed.\n",
    "\n",
    "Low temperature and high temperature returned mixed as well.\n",
    "\n",
    "We can clearly see differences in output by messing with the parameters.\n",
    "\n",
    "It is then up to us to tune the parameters based on what behavior we want as output for a sentence that is biased."
   ]
  },
  {
   "cell_type": "markdown",
   "metadata": {},
   "source": [
    "## 5. Text Completion\n",
    "**Exercise:** Create a text completion application that generates text based on an initial prompt.  \n",
    "**Parameters to explore:** `temperature`, `max_tokens`, `top_p`, `frequency_penalty`, `presence_penalty`, `stop`, `best_of`.\n",
    "\n",
    "Comment what happen when you change the parameters \n",
    "(read documentation!)"
   ]
  },
  {
   "cell_type": "code",
   "execution_count": 55,
   "metadata": {},
   "outputs": [],
   "source": [
    "def complete_text(prompt, temperature=0.7, max_tokens=100, top_p=1.0, frequency_penalty=0.0, presence_penalty=0.0, stop=None):\n",
    "    \n",
    "    client = OpenAI(\n",
    "        api_key=openai.api_key,\n",
    "    )\n",
    "    \n",
    "    messages = [\n",
    "        {\n",
    "            \"role\": \"system\",\n",
    "            \"content\": \"You are a creative writing assistant. Continue the following text.\"\n",
    "        },\n",
    "        {\n",
    "            \"role\": \"user\",\n",
    "            \"content\": prompt\n",
    "        }\n",
    "    ]\n",
    "\n",
    "    chat_completion = client.chat.completions.create(\n",
    "        messages=messages,\n",
    "        model=\"gpt-3.5-turbo\",\n",
    "        temperature=temperature,\n",
    "        max_tokens=max_tokens,\n",
    "        top_p=top_p,\n",
    "        frequency_penalty=frequency_penalty,\n",
    "        presence_penalty=presence_penalty,\n",
    "        stop=stop,\n",
    "    )\n",
    "\n",
    "    return chat_completion.choices[0].message.content"
   ]
  },
  {
   "cell_type": "code",
   "execution_count": 56,
   "metadata": {},
   "outputs": [
    {
     "name": "stdout",
     "output_type": "stream",
     "text": [
      "Completion with default parameters:\n",
      " The villagers lived simple lives, relying on the land for their food and water. Each morning, they would wake up to the sound of birds chirping and the gentle rustling of the wind through the trees. Life in the village was peaceful and harmonious, with everyone working together to ensure the well-being of the community.\n",
      "\n",
      "One day, a mysterious traveler arrived in the village. He was tall and cloaked in a long, dark robe, with a hood that obscured his face. The villagers were\n",
      "\n",
      "Completion with high temperature:\n",
      " The village was known for its lush green fields, crystal-clear streams, and vibrant wildlife. The villagers lived in harmony with nature, tending to their crops and animals with great care. The mountain range that loomed high above the village was said to be home to ancient spirits that watched over the land. Legends spoke of hidden caves filled with treasures and magical artifacts waiting to be discovered by those brave enough to seek them out. Despite the villagers' curiosity, no one had ever ventured too far up the\n",
      "\n",
      "Completion with low temperature:\n",
      " The villagers lived simple lives, tending to their crops and animals, and relying on each other for support and companionship. The mountains provided a sense of security, shielding the village from the outside world and creating a peaceful and idyllic setting. However, little did the villagers know that the mountains held a secret that would soon change their lives forever.\n",
      "\n",
      "Completion with shorter max tokens:\n",
      " The village was known for its peaceful inhabitants who lived harmoniously with nature. The villagers spent their days farming the fertile land, tending to their animals, and crafting beautiful handmade goods to trade with neighboring communities. Life in the village was simple yet fulfilling\n",
      "\n",
      "Completion with low top_p:\n",
      " The villagers lived simple lives, tending to their crops and animals, and gathering around the fire at night to share stories and laughter. The mountains that encircled the village were said to be home to mystical creatures and hidden treasures, but no one dared to venture too far into their shadowy depths. One day, a brave young woman named Elara decided to explore the mountains and uncover their secrets. With a determined heart and a curious spirit, she set off on her journey, leaving the safety\n",
      "\n",
      "Completion with high frequency penalty:\n",
      " The village was known for its lush green fields, sparkling rivers, and colorful wildflowers that painted the landscape. The villagers lived a simple and peaceful life, tending to their crops and animals with care. Each morning, the sun would rise over the mountains, casting a warm golden glow over the village as the villagers began their day.\n",
      "\n",
      "One day, a mysterious traveler arrived in the village. He was tall and rugged-looking, with piercing blue eyes that seemed to hold untold secrets. The villagers watched\n",
      "\n",
      "Completion with high presence penalty:\n",
      " The villagers lived simple lives, tending to their crops and animals, and gathering together for festive celebrations in the village square. Among them was a young girl named Elara, known for her kind heart and adventurous spirit. One day, as she wandered through the forest on the outskirts of the village, she stumbled upon a hidden cave. Intrigued, Elara ventured inside, where she discovered a sparkling crystal that seemed to glow with a mysterious energy. Little did she know that this crystal held a\n",
      "\n",
      "Completion with stop sequence:\n",
      " The village was known for its lush green fields, crystal-clear streams, and colorful wildflowers that bloomed in abundance\n"
     ]
    }
   ],
   "source": [
    "initial_prompt = \"Once upon a time in a distant land, there was a small village surrounded by mountains.\"\n",
    "\n",
    "# Default parameters\n",
    "completion_default = complete_text(initial_prompt)\n",
    "print(\"Completion with default parameters:\\n\", completion_default)\n",
    "\n",
    "# High temperature (more creative)\n",
    "completion_high_temp = complete_text(initial_prompt, temperature=1.0)\n",
    "print(\"\\nCompletion with high temperature:\\n\", completion_high_temp)\n",
    "\n",
    "# Low temperature (more deterministic)\n",
    "completion_low_temp = complete_text(initial_prompt, temperature=0.3)\n",
    "print(\"\\nCompletion with low temperature:\\n\", completion_low_temp)\n",
    "\n",
    "# Shorter response\n",
    "completion_short = complete_text(initial_prompt, max_tokens=50)\n",
    "print(\"\\nCompletion with shorter max tokens:\\n\", completion_short)\n",
    "\n",
    "# Lower top_p (more conservative)\n",
    "completion_low_top_p = complete_text(initial_prompt, top_p=0.5)\n",
    "print(\"\\nCompletion with low top_p:\\n\", completion_low_top_p)\n",
    "\n",
    "# High frequency penalty (reduces repetition)\n",
    "completion_high_freq_penalty = complete_text(initial_prompt, frequency_penalty=1.0)\n",
    "print(\"\\nCompletion with high frequency penalty:\\n\", completion_high_freq_penalty)\n",
    "\n",
    "# High presence penalty (encourages new words)\n",
    "completion_high_presence_penalty = complete_text(initial_prompt, presence_penalty=1.0)\n",
    "print(\"\\nCompletion with high presence penalty:\\n\", completion_high_presence_penalty)\n",
    "\n",
    "# Using stop sequence\n",
    "completion_with_stop = complete_text(initial_prompt, stop=[\".\"])\n",
    "print(\"\\nCompletion with stop sequence:\\n\", completion_with_stop)"
   ]
  },
  {
   "cell_type": "markdown",
   "metadata": {},
   "source": [
    "This time we get very varied answers based on the change in parameters."
   ]
  },
  {
   "cell_type": "markdown",
   "metadata": {},
   "source": [
    "# BONUS: Google Vertex AI"
   ]
  },
  {
   "cell_type": "markdown",
   "metadata": {},
   "source": [
    "## 1. Basic Conversation\n",
    "**Exercise:** Create a basic chatbot using Google Vertex AI to answer questions about a given topic.  \n",
    "**Parameters to explore:** `temperature`, `max_output_tokens`, `top_p`, `frequency_penalty`, `presence_penalty`, `n`, `stop`.\n",
    "\n",
    "Comment what happen when you change the parameters \n",
    "(read documentation!)"
   ]
  },
  {
   "cell_type": "code",
   "execution_count": null,
   "metadata": {},
   "outputs": [],
   "source": []
  },
  {
   "cell_type": "markdown",
   "metadata": {},
   "source": [
    "## 2. Summarization\n",
    "**Exercise:** Develop a script that summarizes long text inputs using Google Vertex AI.  \n",
    "**Parameters to explore:** `temperature`, `max_output_tokens`, `top_p`, `frequency_penalty`, `presence_penalty`, `best_of`, `logprobs`.\n",
    "\n",
    "Comment what happen when you change the parameters \n",
    "(read documentation!)"
   ]
  },
  {
   "cell_type": "code",
   "execution_count": null,
   "metadata": {},
   "outputs": [],
   "source": []
  },
  {
   "cell_type": "markdown",
   "metadata": {},
   "source": [
    "## 3. Translation\n",
    "**Exercise:** Create a tool that translates text from one language to another using Google Vertex AI.  \n",
    "**Parameters to explore:** `temperature`, `max_output_tokens`, `top_p`, `frequency_penalty`, `presence_penalty`, `echo`, `logit_bias`.\n",
    "\n",
    "Comment what happen when you change the parameters \n",
    "(read documentation!)"
   ]
  },
  {
   "cell_type": "code",
   "execution_count": null,
   "metadata": {},
   "outputs": [],
   "source": []
  },
  {
   "cell_type": "markdown",
   "metadata": {},
   "source": [
    "## 4. Sentiment Analysis\n",
    "**Exercise:** Implement a sentiment analysis tool using Google Vertex AI to determine the sentiment of a given text.  \n",
    "**Parameters to explore:** `temperature`, `max_output_tokens`, `top_p`, `frequency_penalty`, `presence_penalty`, `n`, `logprobs`.\n",
    "\n",
    "Comment what happen when you change the parameters \n",
    "(read documentation!)"
   ]
  },
  {
   "cell_type": "code",
   "execution_count": null,
   "metadata": {},
   "outputs": [],
   "source": []
  },
  {
   "cell_type": "markdown",
   "metadata": {},
   "source": [
    "## 5. Text Completion\n",
    "**Exercise:** Develop a text completion application using Google Vertex AI to generate text based on an initial prompt.  \n",
    "**Parameters to explore:** `temperature`, `max_output_tokens`, `top_p`, `frequency_penalty`, `presence_penalty`, `stop`, `best_of`.\n",
    "\n",
    "Comment what happen when you change the parameters \n",
    "(read documentation!)"
   ]
  },
  {
   "cell_type": "code",
   "execution_count": null,
   "metadata": {},
   "outputs": [],
   "source": []
  }
 ],
 "metadata": {
  "kernelspec": {
   "display_name": ".venv",
   "language": "python",
   "name": "python3"
  },
  "language_info": {
   "codemirror_mode": {
    "name": "ipython",
    "version": 3
   },
   "file_extension": ".py",
   "mimetype": "text/x-python",
   "name": "python",
   "nbconvert_exporter": "python",
   "pygments_lexer": "ipython3",
   "version": "3.10.0"
  }
 },
 "nbformat": 4,
 "nbformat_minor": 2
}
